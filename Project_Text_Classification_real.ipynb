{
 "cells": [
  {
   "cell_type": "code",
   "execution_count": 1,
   "id": "2d672efc",
   "metadata": {
    "colab": {
     "base_uri": "https://localhost:8080/"
    },
    "id": "2d672efc",
    "outputId": "32bb34de-b125-48d2-aca7-a32b61891273"
   },
   "outputs": [
    {
     "name": "stderr",
     "output_type": "stream",
     "text": [
      "[nltk_data] Downloading package stopwords to\n",
      "[nltk_data]     C:\\Users\\Rohan\\AppData\\Roaming\\nltk_data...\n",
      "[nltk_data]   Package stopwords is already up-to-date!\n",
      "[nltk_data] Downloading package punkt to\n",
      "[nltk_data]     C:\\Users\\Rohan\\AppData\\Roaming\\nltk_data...\n",
      "[nltk_data]   Package punkt is already up-to-date!\n"
     ]
    },
    {
     "data": {
      "text/plain": [
       "True"
      ]
     },
     "execution_count": 1,
     "metadata": {},
     "output_type": "execute_result"
    }
   ],
   "source": [
    "# Import required libraries\n",
    "import numpy as np\n",
    "from sklearn.datasets import fetch_20newsgroups\n",
    "from sklearn.model_selection import train_test_split\n",
    "import string\n",
    "import nltk\n",
    "from nltk.corpus import stopwords\n",
    "from nltk.tokenize import word_tokenize\n",
    "nltk.download('stopwords')\n",
    "nltk.download('punkt')"
   ]
  },
  {
   "cell_type": "code",
   "execution_count": 2,
   "id": "c237022c",
   "metadata": {
    "id": "c237022c"
   },
   "outputs": [],
   "source": [
    "# Fetch the 20 Newsgroups dataset and store it in the 'newsgroup_data_all' variable\n",
    "newsgroup_data_all = fetch_20newsgroups(data_home= 'twenty_new_groups/', subset= 'all')"
   ]
  },
  {
   "cell_type": "code",
   "execution_count": 3,
   "id": "d422950c",
   "metadata": {
    "id": "d422950c"
   },
   "outputs": [],
   "source": [
    "# Split the dataset into training and testing sets\n",
    "# 80% of the data will be used for training and 20% for testing\n",
    "x_train, x_test, y_train, y_test=train_test_split(newsgroup_data_all.data, newsgroup_data_all.target, train_size = 0.8, random_state=1)"
   ]
  },
  {
   "cell_type": "code",
   "execution_count": 4,
   "id": "740eea7c",
   "metadata": {
    "id": "740eea7c"
   },
   "outputs": [],
   "source": [
    "# Create a list of stopwords and punctuation marks\n",
    "stop_words = stopwords.words('english') + list(string.punctuation)"
   ]
  },
  {
   "cell_type": "code",
   "execution_count": 5,
   "id": "968974a8",
   "metadata": {
    "colab": {
     "base_uri": "https://localhost:8080/"
    },
    "id": "968974a8",
    "outputId": "6e66ae88-e20e-4c5e-e348-0f1cae66461e"
   },
   "outputs": [],
   "source": [
    "# Create a dictionary to store the word frequencies in the training data\n",
    "word_count_dic = {}\n",
    "# Iterate over each text in the training data\n",
    "for text in x_train:\n",
    "    # Tokenize the text and convert it to lowercase\n",
    "    word_list = word_tokenize(text.lower())\n",
    "    # Update the word frequencies in the 'word_count_dic' dictionary\n",
    "    for word in word_list:\n",
    "        if (word not in stop_words) and (len(word) > 2) and (word.isalpha()):\n",
    "            word_count_dic[word] = word_count_dic.get(word, 0) + 1"
   ]
  },
  {
   "cell_type": "code",
   "execution_count": 6,
   "id": "UR53lz4p3x1P",
   "metadata": {
    "colab": {
     "base_uri": "https://localhost:8080/"
    },
    "id": "UR53lz4p3x1P",
    "outputId": "b46dfcb9-9fe2-466b-b0b9-0b96ade7eeae"
   },
   "outputs": [],
   "source": [
    "# Sort the 'word_count_dic' by word frequency and keep only the top 10,000 words\n",
    "sorted_word_count = sorted(word_count_dic.items(), key= lambda x:x[1], reverse = True)[:10000]\n",
    "\n",
    "# Convert the sorted list of tuples back into a dictionary\n",
    "sorted_word_count_dic = dict(sorted_word_count)"
   ]
  },
  {
   "cell_type": "code",
   "execution_count": 7,
   "id": "RksX5Me37Pj-",
   "metadata": {
    "colab": {
     "base_uri": "https://localhost:8080/",
     "height": 430
    },
    "id": "RksX5Me37Pj-",
    "outputId": "abce77b1-80d1-49b6-c032-cfdc1cf21bcf"
   },
   "outputs": [
    {
     "data": {
      "image/png": "[encoded data removed]",
      "text/plain": [
       "<Figure size 640x480 with 1 Axes>"
      ]
     },
     "metadata": {},
     "output_type": "display_data"
    }
   ],
   "source": [
    "# Plot a graph of word frequencies for the top 10,000 words\n",
    "import matplotlib.pyplot as plt\n",
    "plt.plot(np.arange(1, 10001), sorted_word_count_dic.values())\n",
    "plt.xlabel('Number of Words')\n",
    "plt.ylabel('Frequency')\n",
    "plt.grid()\n",
    "plt.show()"
   ]
  },
  {
   "cell_type": "code",
   "execution_count": 8,
   "id": "zeFRi7sy4eSv",
   "metadata": {
    "colab": {
     "base_uri": "https://localhost:8080/"
    },
    "id": "zeFRi7sy4eSv",
    "outputId": "98bb2b50-44b0-416f-c0b0-15ab1f9a35c0"
   },
   "outputs": [],
   "source": [
    "# Create a list of features (top 10,000 words) to be used in the modified dataset\n",
    "features = list(sorted_word_count_dic.keys())"
   ]
  },
  {
   "cell_type": "code",
   "execution_count": 9,
   "id": "yu4gbtroAx9T",
   "metadata": {
    "id": "yu4gbtroAx9T"
   },
   "outputs": [],
   "source": [
    "# Define a function to modify the data based on the selected features\n",
    "def data_modifier(x_data, features):\n",
    "    # Create a matrix of zeros to store the modified data\n",
    "    modified_data = np.zeros((len(x_data), len(features)))\n",
    "    \n",
    "    # Iterate over each text in the dataset\n",
    "    for i in range(len(x_data)):\n",
    "        # Tokenize the text and convert it to lowercase\n",
    "        word_list = word_tokenize(x_data[i].lower())\n",
    "        \n",
    "        # Create a temporary dictionary to store word frequencies in each text\n",
    "        temp_dic = {}\n",
    "        \n",
    "        # Update the word frequencies in the temporary dictionary\n",
    "        for word in word_list:\n",
    "            temp_dic[word] = temp_dic.get(word, 0) + 1\n",
    "            \n",
    "        # Assign the word frequencies from the temporary dictionary to the modified_data matrix\n",
    "        for j in range(len(features)):\n",
    "            if features[j] in temp_dic.keys():\n",
    "                modified_data[i][j] = temp_dic[features[j]]\n",
    "    return modified_data"
   ]
  },
  {
   "cell_type": "code",
   "execution_count": 10,
   "id": "KRbTccTUDJCb",
   "metadata": {
    "id": "KRbTccTUDJCb"
   },
   "outputs": [
    {
     "data": {
      "text/plain": [
       "(15076, 10000)"
      ]
     },
     "execution_count": 10,
     "metadata": {},
     "output_type": "execute_result"
    }
   ],
   "source": [
    "# Modify the training and testing data using the selected features\n",
    "x_train_mod = data_modifier(x_train, features)\n",
    "x_test_mod = data_modifier(x_test, features)\n",
    "x_train_mod.shape"
   ]
  },
  {
   "cell_type": "markdown",
   "id": "1d7498a6",
   "metadata": {},
   "source": [
    "#### 1. Perform Test Classification using Multinomial Naive Bayes(already implemented in sklearn)."
   ]
  },
  {
   "cell_type": "code",
   "execution_count": 11,
   "id": "36720422",
   "metadata": {
    "id": "36720422"
   },
   "outputs": [],
   "source": [
    "from sklearn.naive_bayes import MultinomialNB\n",
    "\n",
    "# Initialize a Multinomial Naive Bayes classifier\n",
    "nb_clf = MultinomialNB()\n",
    "\n",
    "# Train the Naive Bayes classifier on the training data\n",
    "nb_clf.fit(x_train_mod, y_train)\n",
    "\n",
    "# Use the trained classifier to make predictions on the test data\n",
    "y_pred = nb_clf.predict(x_test_mod)"
   ]
  },
  {
   "cell_type": "code",
   "execution_count": 12,
   "id": "142e5296",
   "metadata": {
    "colab": {
     "base_uri": "https://localhost:8080/"
    },
    "id": "142e5296",
    "outputId": "c77a740c-aeff-48c2-d66b-691376cc6942"
   },
   "outputs": [
    {
     "name": "stdout",
     "output_type": "stream",
     "text": [
      "Accuracy using Multinomial Naive Bayes from scratch: 0.8710875331564987\n",
      "                          precision    recall  f1-score   support\n",
      "\n",
      "             alt.atheism       0.85      0.89      0.87       161\n",
      "           comp.graphics       0.75      0.81      0.78       193\n",
      " comp.os.ms-windows.misc       0.85      0.79      0.82       205\n",
      "comp.sys.ibm.pc.hardware       0.77      0.82      0.79       213\n",
      "   comp.sys.mac.hardware       0.74      0.85      0.79       189\n",
      "          comp.windows.x       0.87      0.74      0.80       188\n",
      "            misc.forsale       0.83      0.84      0.83       201\n",
      "               rec.autos       0.88      0.90      0.89       202\n",
      "         rec.motorcycles       0.89      0.96      0.92       203\n",
      "      rec.sport.baseball       0.96      0.96      0.96       185\n",
      "        rec.sport.hockey       0.99      0.96      0.98       218\n",
      "               sci.crypt       0.96      0.93      0.94       207\n",
      "         sci.electronics       0.79      0.81      0.80       181\n",
      "                 sci.med       0.97      0.89      0.93       195\n",
      "               sci.space       0.96      0.94      0.95       204\n",
      "  soc.religion.christian       0.93      0.89      0.91       208\n",
      "      talk.politics.guns       0.84      0.93      0.88       185\n",
      "   talk.politics.mideast       0.97      0.92      0.94       186\n",
      "      talk.politics.misc       0.83      0.78      0.80       147\n",
      "      talk.religion.misc       0.77      0.71      0.74        99\n",
      "\n",
      "                accuracy                           0.87      3770\n",
      "               macro avg       0.87      0.87      0.87      3770\n",
      "            weighted avg       0.87      0.87      0.87      3770\n",
      "\n",
      "[[144   0   0   0   0   0   0   2   0   0   0   0   0   0   0   2   0   0\n",
      "    0  13]\n",
      " [  0 157   5  10   6   6   2   1   1   1   0   2   2   0   0   0   0   0\n",
      "    0   0]\n",
      " [  0   7 162  16   4  11   1   0   0   0   0   0   3   0   0   0   0   0\n",
      "    0   1]\n",
      " [  0   1   6 174  16   2   4   0   0   0   0   2   8   0   0   0   0   0\n",
      "    0   0]\n",
      " [  0   2   4   9 160   0   6   1   0   0   0   1   5   1   0   0   0   0\n",
      "    0   0]\n",
      " [  0  20   5   4   4 140   4   1   2   0   0   1   3   1   1   0   0   0\n",
      "    1   1]\n",
      " [  0   1   1   5   3   0 168   9   3   0   0   0   8   0   1   1   0   0\n",
      "    1   0]\n",
      " [  0   1   1   0   0   0   5 181   8   0   0   0   4   0   0   0   1   0\n",
      "    1   0]\n",
      " [  0   1   1   0   0   0   2   2 195   0   0   0   1   0   0   0   1   0\n",
      "    0   0]\n",
      " [  1   0   0   0   0   0   3   0   0 178   2   0   0   0   0   0   0   1\n",
      "    0   0]\n",
      " [  0   0   0   0   0   0   1   1   1   5 210   0   0   0   0   0   0   0\n",
      "    0   0]\n",
      " [  0   3   1   0   2   2   1   0   1   0   0 192   1   0   0   0   1   0\n",
      "    3   0]\n",
      " [  0   9   0   8  12   0   0   3   0   0   0   0 146   1   0   0   1   0\n",
      "    1   0]\n",
      " [  0   1   1   0   3   0   1   1   4   1   0   0   3 174   3   1   1   0\n",
      "    1   0]\n",
      " [  2   5   0   0   1   0   2   0   1   0   0   0   0   0 191   0   0   0\n",
      "    2   0]\n",
      " [  5   0   3   0   1   0   1   1   1   0   0   0   0   1   2 185   1   2\n",
      "    1   4]\n",
      " [  0   0   0   0   1   0   0   1   3   0   0   1   1   0   0   0 172   1\n",
      "    5   0]\n",
      " [  2   0   1   0   2   0   1   0   0   1   0   1   0   0   0   1   0 171\n",
      "    6   0]\n",
      " [  2   0   0   0   0   0   1   0   0   0   0   1   0   1   0   1  24   1\n",
      "  114   2]\n",
      " [ 14   0   0   0   1   0   0   1   0   0   0   0   0   0   0   8   3   0\n",
      "    2  70]]\n"
     ]
    }
   ],
   "source": [
    "from sklearn.metrics import classification_report,confusion_matrix,accuracy_score\n",
    "\n",
    "# Calculate the accuracy of the classifier by comparing the predicted labels with the true labels\n",
    "accuracy_sk = accuracy_score(y_true=y_test, y_pred= y_pred)\n",
    "\n",
    "# Print the accuracy of the Multinomial Naive Bayes classifier\n",
    "print(f\"Accuracy using Multinomial Naive Bayes from scratch: {accuracy_sk}\")\n",
    "\n",
    "# Print a detailed classification report showing precision, recall, and F1-score for each class\n",
    "# target_names maps the numerical labels to their corresponding class names\n",
    "print(classification_report(y_test, y_pred, target_names=newsgroup_data_all.target_names))\n",
    "\n",
    "# Print confusion matrix\n",
    "print(confusion_matrix(y_test,y_pred))"
   ]
  },
  {
   "cell_type": "code",
   "execution_count": null,
   "id": "64e86c74",
   "metadata": {
    "id": "64e86c74"
   },
   "outputs": [],
   "source": []
  },
  {
   "cell_type": "markdown",
   "id": "1bacb60a",
   "metadata": {
    "id": "1bacb60a"
   },
   "source": [
    "#### 2. Implement Naive Bayes on your own from scratch for text classification."
   ]
  },
  {
   "cell_type": "code",
   "execution_count": 13,
   "id": "1407eb19",
   "metadata": {
    "colab": {
     "base_uri": "https://localhost:8080/"
    },
    "id": "1407eb19",
    "outputId": "5bfbc860-de55-4b33-c45f-1bd71d1872d8"
   },
   "outputs": [],
   "source": [
    "# Import required libraries\n",
    "import numpy as np\n",
    "\n",
    "# This class represents a Naive Bayes classifier, a probabilistic machine learning algorithm commonly used for\n",
    "# classification tasks. It assumes independence between features given the class labels, which is why it's called\n",
    "# \"naive\". The 'fit' method is used for training the classifier, and the 'predict' method is used for making predictions.\n",
    "class NaiveBayes:\n",
    "    \n",
    "    # The 'fit' method is used for training the Naive Bayes classifier.\n",
    "    def fit(self, x_train, y_train, features):\n",
    "        self.features = features\n",
    "        self.words_count = {} # A dictionary to store the count of words for each class and each feature\n",
    "        classes = np.unique(y_train) # Get the unique class labels from the training data\n",
    "        # Iterate over each class\n",
    "        for clss in classes:\n",
    "            self.words_count[clss] = {'Total': 0} # Initialize the count for each class\n",
    "            class_data = x_train[y_train == clss] # Get the data points belonging to the current class\n",
    "            # Count the occurrences of each feature in the class and update the 'words_count' dictionary\n",
    "            for i in range(len(features)):\n",
    "                self.words_count[clss][features[i]] = class_data[:, i].sum()\n",
    "                self.words_count[clss]['Total'] += self.words_count[clss][features[i]]\n",
    "                \n",
    "    # The 'calculate_probability' method calculates the probability of a given data point (represented as a numpy array)\n",
    "    # belonging to a specific class based on the word frequencies in the 'words_count' dictionary.\n",
    "    def calculate_probability(self, np_array, words_count, class_name, features):\n",
    "        words_dic = words_count[class_name]\n",
    "        total = words_dic['Total']\n",
    "        length = len(words_dic)\n",
    "        prob = 0\n",
    "        # Iterate over each feature in the data point and calculate the probability\n",
    "        for i in range(len(np_array)):\n",
    "            if np_array[i] != 0.0:\n",
    "                # Calculate the logarithmic probability of the feature occurring in the given class\n",
    "                curr_prob = np.log((words_dic[features[i]] + 1) / (total + length))\n",
    "                prob += curr_prob\n",
    "        return prob\n",
    "    \n",
    "    # The 'predict' method is used to make predictions for the given test data points.\n",
    "    def predict(self, x_test):\n",
    "        predictions = [] # A list to store the predicted class labels for each test data point\n",
    "        features = self.features\n",
    "        classes = list(self.words_count.keys()) # Get the list of unique class labels\n",
    "        for np_array in x_test:\n",
    "            best_prob = -1000 # Initialize the best probability to a very low value\n",
    "            best_class = None # Initialize the best class label to None\n",
    "            first_run = True # A flag to indicate if this is the first iteration of the loop\n",
    "            # Iterate over each class label and calculate the probability of the test data point belonging to that class\n",
    "            for class_name in classes:\n",
    "                prob = self.calculate_probability(np_array, self.words_count, class_name, features)\n",
    "                # Compare the calculated probability with the current best probability and update if necessary\n",
    "                if first_run or prob > best_prob:\n",
    "                    best_prob = prob\n",
    "                    best_class = class_name\n",
    "                first_run = False\n",
    "            # Append the best class label for the current test data point to the 'predictions' list\n",
    "            predictions.append(best_class)\n",
    "        return predictions # Return the list of predicted class labels for all test data points"
   ]
  },
  {
   "cell_type": "code",
   "execution_count": 14,
   "id": "18eb135f",
   "metadata": {
    "id": "18eb135f"
   },
   "outputs": [],
   "source": [
    "# Create an instance of the NaiveBayes class\n",
    "alg = NaiveBayes()"
   ]
  },
  {
   "cell_type": "code",
   "execution_count": 15,
   "id": "1ef9736c",
   "metadata": {
    "id": "1ef9736c"
   },
   "outputs": [],
   "source": [
    "# Fit the Naive Bayes classifier on the training data\n",
    "alg.fit(x_train_mod, y_train, features)"
   ]
  },
  {
   "cell_type": "code",
   "execution_count": 16,
   "id": "bc87026a",
   "metadata": {
    "id": "bc87026a"
   },
   "outputs": [],
   "source": [
    "# Make predictions on the test data using the trained classifier\n",
    "# Note: This step may take some time depending on the size of the test data and the complexity of the classifier\n",
    "pred_values = alg.predict(x_test_mod)"
   ]
  },
  {
   "cell_type": "code",
   "execution_count": 17,
   "id": "a818fa47",
   "metadata": {
    "colab": {
     "base_uri": "https://localhost:8080/"
    },
    "id": "a818fa47",
    "outputId": "079f2d8c-0034-4665-ea0d-21943947ea6d"
   },
   "outputs": [
    {
     "name": "stdout",
     "output_type": "stream",
     "text": [
      "Accuracy using Multinomial Naive Bayes from scratch: 0.8594164456233422\n",
      "                          precision    recall  f1-score   support\n",
      "\n",
      "             alt.atheism       0.82      0.89      0.86       161\n",
      "           comp.graphics       0.73      0.77      0.75       193\n",
      " comp.os.ms-windows.misc       0.85      0.76      0.80       205\n",
      "comp.sys.ibm.pc.hardware       0.77      0.81      0.79       213\n",
      "   comp.sys.mac.hardware       0.76      0.86      0.81       189\n",
      "          comp.windows.x       0.84      0.73      0.78       188\n",
      "            misc.forsale       0.81      0.85      0.83       201\n",
      "               rec.autos       0.85      0.90      0.88       202\n",
      "         rec.motorcycles       0.92      0.95      0.93       203\n",
      "      rec.sport.baseball       0.94      0.94      0.94       185\n",
      "        rec.sport.hockey       0.99      0.94      0.97       218\n",
      "               sci.crypt       0.93      0.93      0.93       207\n",
      "         sci.electronics       0.72      0.78      0.75       181\n",
      "                 sci.med       0.94      0.87      0.90       195\n",
      "               sci.space       0.95      0.95      0.95       204\n",
      "  soc.religion.christian       0.95      0.87      0.90       208\n",
      "      talk.politics.guns       0.82      0.91      0.86       185\n",
      "   talk.politics.mideast       0.97      0.91      0.94       186\n",
      "      talk.politics.misc       0.79      0.78      0.78       147\n",
      "      talk.religion.misc       0.81      0.68      0.74        99\n",
      "\n",
      "                accuracy                           0.86      3770\n",
      "               macro avg       0.86      0.85      0.85      3770\n",
      "            weighted avg       0.86      0.86      0.86      3770\n",
      "\n",
      "[[144   0   0   0   0   0   0   1   1   0   0   0   0   0   0   2   1   0\n",
      "    1  11]\n",
      " [  0 149   4  12   4   8   2   2   1   1   0   3   5   1   1   0   0   0\n",
      "    0   0]\n",
      " [  0   6 156  16   5  14   2   0   0   0   0   0   5   0   0   0   0   0\n",
      "    0   1]\n",
      " [  0   2   4 172  18   3   4   0   0   0   0   1   9   0   0   0   0   0\n",
      "    0   0]\n",
      " [  0   2   2   6 163   0   7   1   0   0   0   0   5   1   1   0   0   0\n",
      "    1   0]\n",
      " [  0  23   8   1   4 138   4   0   2   0   0   2   4   1   1   0   0   0\n",
      "    0   0]\n",
      " [  1   1   2   4   1   0 170   9   1   0   0   1   9   0   1   0   0   0\n",
      "    1   0]\n",
      " [  0   1   1   0   0   0   6 182   5   0   0   0   4   0   0   0   2   0\n",
      "    1   0]\n",
      " [  0   1   0   0   0   0   2   5 193   0   0   0   0   1   0   0   1   0\n",
      "    0   0]\n",
      " [  0   0   1   0   0   0   3   1   0 173   2   0   1   2   0   0   1   0\n",
      "    1   0]\n",
      " [  0   0   0   0   0   0   2   2   1   6 206   0   1   0   0   0   0   0\n",
      "    0   0]\n",
      " [  0   4   0   1   2   1   1   0   0   0   0 192   1   0   0   0   2   0\n",
      "    3   0]\n",
      " [  0   8   1  10   9   0   1   5   1   0   0   2 142   0   0   0   1   0\n",
      "    1   0]\n",
      " [  1   0   1   0   1   0   2   1   2   2   0   0   7 169   4   0   2   0\n",
      "    3   0]\n",
      " [  1   4   0   0   1   0   1   0   1   0   0   0   1   0 193   0   0   0\n",
      "    2   0]\n",
      " [  6   2   2   0   1   0   0   1   0   0   0   1   2   1   2 180   1   3\n",
      "    3   3]\n",
      " [  0   1   0   0   1   0   0   1   2   1   0   4   0   0   0   0 168   1\n",
      "    6   0]\n",
      " [  2   0   1   1   3   0   1   0   0   1   0   0   0   1   0   1   1 169\n",
      "    5   0]\n",
      " [  4   0   0   0   0   0   1   0   0   0   0   1   0   2   0   0  23   1\n",
      "  114   1]\n",
      " [ 16   0   0   0   1   0   0   2   0   0   0   0   0   0   1   7   3   0\n",
      "    2  67]]\n"
     ]
    }
   ],
   "source": [
    "# Calculate the accuracy of the Naive Bayes classifier by comparing the predicted labels with the true labels\n",
    "accuracy_sk = accuracy_score(y_true=y_test, y_pred = pred_values)\n",
    "\n",
    "# Print the accuracy of the Multinomial Naive Bayes classifier implemented from scratch\n",
    "print(f\"Accuracy using Multinomial Naive Bayes from scratch: {accuracy_sk}\")\n",
    "\n",
    "# Print a detailed classification report showing precision, recall, and F1-score for each class\n",
    "# target_names maps the numerical labels to their corresponding class names\n",
    "print(classification_report(y_test, pred_values, target_names=newsgroup_data_all.target_names))\n",
    "\n",
    "# Print confusion matrix\n",
    "print(confusion_matrix(y_test,pred_values))"
   ]
  },
  {
   "cell_type": "code",
   "execution_count": null,
   "id": "e745d8d8",
   "metadata": {},
   "outputs": [],
   "source": []
  }
 ],
 "metadata": {
  "accelerator": "GPU",
  "colab": {
   "gpuType": "T4",
   "provenance": []
  },
  "kernelspec": {
   "display_name": "Python 3 (ipykernel)",
   "language": "python",
   "name": "python3"
  },
  "language_info": {
   "codemirror_mode": {
    "name": "ipython",
    "version": 3
   },
   "file_extension": ".py",
   "mimetype": "text/x-python",
   "name": "python",
   "nbconvert_exporter": "python",
   "pygments_lexer": "ipython3",
   "version": "3.10.9"
  }
 },
 "nbformat": 4,
 "nbformat_minor": 5
}
